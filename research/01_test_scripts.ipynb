{
 "cells": [
  {
   "cell_type": "code",
   "execution_count": 1,
   "id": "002c641a",
   "metadata": {},
   "outputs": [],
   "source": [
    "import pandas as pd\n",
    "from src.utils.data_utils import get_demand_df, update_demand_dic, load_matrix_df, get_demand_matrix_df, load_df\n",
    "from src.utils.helper_utils import get_penalty_list, get_values_not_in_second_list\n",
    "from src.utils.route_utils import sort_nodes_by_distance"
   ]
  },
  {
   "cell_type": "code",
   "execution_count": 2,
   "id": "214f8ab9",
   "metadata": {},
   "outputs": [
    {
     "data": {
      "text/plain": [
       "(457, 10)"
      ]
     },
     "execution_count": 2,
     "metadata": {},
     "output_type": "execute_result"
    }
   ],
   "source": [
    "demand_df = get_demand_df(\n",
    "    today_path='../data/orders/03-03-2025-PO.csv'\n",
    "    )\n",
    "demand_df.shape"
   ]
  },
  {
   "cell_type": "code",
   "execution_count": 3,
   "id": "a41f78cd",
   "metadata": {},
   "outputs": [],
   "source": [
    "demand_dict = update_demand_dic(demand_df)"
   ]
  },
  {
   "cell_type": "code",
   "execution_count": 4,
   "id": "ddce13c0",
   "metadata": {},
   "outputs": [],
   "source": [
    "distance_mat = load_matrix_df('../data/master/osrm_distance_matrix.csv')"
   ]
  },
  {
   "cell_type": "code",
   "execution_count": 5,
   "id": "0d27a01f",
   "metadata": {},
   "outputs": [],
   "source": [
    "demand_mat_df = get_demand_matrix_df(distance_mat,demand_df, 0)"
   ]
  },
  {
   "cell_type": "code",
   "execution_count": 6,
   "id": "87c01288",
   "metadata": {},
   "outputs": [],
   "source": [
    "today = '2025-03-03'\n",
    "DISTANCE_BASE_PENALTY = 1000\n",
    "penalty_lis = get_penalty_list(demand_dict, DISTANCE_BASE_PENALTY, 6, today)"
   ]
  },
  {
   "cell_type": "code",
   "execution_count": 7,
   "id": "38c062d8",
   "metadata": {},
   "outputs": [],
   "source": [
    "demand_sort_nodes = sort_nodes_by_distance(demand_mat_df)"
   ]
  },
  {
   "cell_type": "code",
   "execution_count": 8,
   "id": "58f8dbc8",
   "metadata": {},
   "outputs": [],
   "source": [
    "nodes_to_visit = demand_sort_nodes[:300]"
   ]
  },
  {
   "cell_type": "code",
   "execution_count": 9,
   "id": "14fafbe1",
   "metadata": {},
   "outputs": [],
   "source": [
    "# from src.data_model.vrp_data_model import VRPDataModel\n",
    "\"\"\"\n",
    "Data model for the Vehicle Routing Problem.\n",
    "Creates the data model for the solver based on the input data.\n",
    "\"\"\"\n",
    "\n",
    "import src.config as config\n",
    "\n",
    "class VRPDataModel:\n",
    "    def __init__(self, full_matrix, nodes_to_visit, demand_dict,\n",
    "                 penalty_list=None, max_distance=None, max_visits=None, depot_code='0'):\n",
    "        \n",
    "        if max_distance is None:\n",
    "            max_distance = config.MAX_DISTANCE_PER_VEHICLE\n",
    "        if max_visits is None:\n",
    "            max_visits = config.MAX_VISITS_PER_VEHICLE\n",
    "\n",
    "        self.full_matrix = full_matrix  # Pandas DataFrame with named rows/columns\n",
    "        self.nodes_to_visit = nodes_to_visit  # e.g., [1005, 1017, ...]\n",
    "        self.demand_dict = demand_dict  # Dict: {shop_code: demand}\n",
    "        self.penalty_list = penalty_list\n",
    "        self.max_distance = max_distance\n",
    "        self.max_visits = max_visits\n",
    "        self.depot_code = depot_code  # Custom depot code, e.g., 'SMAK'\n",
    "\n",
    "        self.data = {}\n",
    "        self._create_model()\n",
    "\n",
    "    def _create_model(self):\n",
    "        print(\"create_data_model called with:\")\n",
    "        print(f\"Depot: {self.depot_code}\")\n",
    "        print(f\"Max Distance: {self.max_distance}\")\n",
    "        print(f\"Max Visits: {self.max_visits}\")\n",
    "        print(f\"Distance Matrix Shape: {self.full_matrix.shape}\")\n",
    "        print(f\"Nodes to Visit: {len(self.nodes_to_visit)}\")\n",
    "\n",
    "        # Validate that depot exists\n",
    "        valid_keys = set(self.full_matrix.index).intersection(self.full_matrix.columns)\n",
    "        assert self.depot_code in valid_keys, f\"Depot '{self.depot_code}' not found in distance matrix.\"\n",
    "\n",
    "        # Filter out invalid nodes and exclude depot from visit list\n",
    "        filtered_nodes = [node for node in self.nodes_to_visit if node in valid_keys and node != self.depot_code]\n",
    "\n",
    "        # Build node list (depot always at index 0)\n",
    "        all_nodes = [self.depot_code] + filtered_nodes\n",
    "\n",
    "        # Build distance matrix\n",
    "        self.data[\"distance_matrix\"] = [\n",
    "            [self.full_matrix.loc[from_node, to_node] for to_node in all_nodes]\n",
    "            for from_node in all_nodes\n",
    "        ]\n",
    "\n",
    "        # Build demand list\n",
    "        self.data[\"demands\"] = [0] + [self.demand_dict.get(node, 1) for node in filtered_nodes]\n",
    "\n",
    "        # Set other model fields\n",
    "        self.data[\"node_mapping\"] = all_nodes\n",
    "        self.data[\"num_vehicles\"] = len(self.max_distance)\n",
    "        self.data[\"depot\"] = 0\n",
    "        self.data[\"max_distance_per_vehicle\"] = self.max_distance\n",
    "        self.data[\"max_visits_per_vehicle\"] = self.max_visits\n",
    "\n",
    "        # Build penalty list (optional)\n",
    "        if self.penalty_list is not None:\n",
    "            filtered_penalties = [\n",
    "                penalty for node, penalty in zip(self.nodes_to_visit, self.penalty_list)\n",
    "                if node in filtered_nodes\n",
    "            ]\n",
    "            self.data[\"penalties\"] = [0] + filtered_penalties\n",
    "        else:\n",
    "            self.data[\"penalties\"] = [0] + [1000] * len(filtered_nodes)\n",
    "\n",
    "    def get_data(self):\n",
    "        return self.data\n"
   ]
  },
  {
   "cell_type": "code",
   "execution_count": 17,
   "id": "3e66e6f3",
   "metadata": {},
   "outputs": [
    {
     "name": "stdout",
     "output_type": "stream",
     "text": [
      "create_data_model called with:\n",
      "Depot: 1108\n",
      "Max Distance: [200, 200, 200, 200, 200, 200, 200, 200]\n",
      "Max Visits: [8, 8, 8, 8, 8, 8, 8, 8]\n",
      "Distance Matrix Shape: (450, 450)\n",
      "Nodes to Visit: 300\n"
     ]
    }
   ],
   "source": [
    "dataClass = VRPDataModel(\n",
    "    full_matrix=demand_mat_df,\n",
    "    nodes_to_visit=nodes_to_visit,\n",
    "    demand_dict=demand_dict,\n",
    "    penalty_list=penalty_lis,\n",
    "    max_visits=[8]*8,\n",
    "    depot_code='1108'\n",
    ")"
   ]
  },
  {
   "cell_type": "code",
   "execution_count": 18,
   "id": "8b24dbd0",
   "metadata": {},
   "outputs": [],
   "source": [
    "data=dataClass.get_data()"
   ]
  },
  {
   "cell_type": "code",
   "execution_count": 19,
   "id": "1de52508",
   "metadata": {},
   "outputs": [
    {
     "data": {
      "text/plain": [
       "300"
      ]
     },
     "execution_count": 19,
     "metadata": {},
     "output_type": "execute_result"
    }
   ],
   "source": [
    "len(data['distance_matrix'])"
   ]
  },
  {
   "cell_type": "code",
   "execution_count": 20,
   "id": "56618edd",
   "metadata": {},
   "outputs": [],
   "source": [
    "from src.solver.vrp_solver import VRPSolver"
   ]
  },
  {
   "cell_type": "code",
   "execution_count": 21,
   "id": "c80616e8",
   "metadata": {},
   "outputs": [],
   "source": [
    "solver = VRPSolver()"
   ]
  },
  {
   "cell_type": "code",
   "execution_count": 22,
   "id": "aadabe86",
   "metadata": {},
   "outputs": [
    {
     "name": "stdout",
     "output_type": "stream",
     "text": [
      "\n",
      "Day 2 Routes:\n",
      "Route for vehicle 0:\n",
      " 1108 -> 1872 -> 1471 -> 1320 -> SCCR -> SCRJ -> SCNW -> SCSJ -> 1614 -> 1108\n",
      "Distance of route: 15 km (Max: 200)\n",
      "Stops visited: 8/8\n",
      "\n",
      "Route for vehicle 1:\n",
      " 1108 -> 1005 -> 1411 -> 1130 -> 1308 -> 1033 -> SCMD -> 1594 -> 1291 -> 1108\n",
      "Distance of route: 15 km (Max: 200)\n",
      "Stops visited: 8/8\n",
      "\n",
      "Route for vehicle 2:\n",
      " 1108 -> 1364 -> 14003 -> 1303 -> 1676 -> 14011 -> 1761 -> 1859 -> 1446 -> 1108\n",
      "Distance of route: 11 km (Max: 200)\n",
      "Stops visited: 8/8\n",
      "\n",
      "Route for vehicle 3:\n",
      " 1108 -> 1145 -> 1323 -> 1107 -> SCTB -> 1419 -> SCDP -> SCTU -> 1433 -> 1108\n",
      "Distance of route: 13 km (Max: 200)\n",
      "Stops visited: 8/8\n",
      "\n",
      "Route for vehicle 4:\n",
      " 1108 -> SCMY -> 1137 -> SGKR -> 3 -> SGMH -> 14015 -> SGWA -> 1555 -> 1108\n",
      "Distance of route: 21 km (Max: 200)\n",
      "Stops visited: 8/8\n",
      "\n",
      "Route for vehicle 5:\n",
      " 1108 -> 1292 -> 1896 -> 1746 -> 1301 -> 1776 -> 1497 -> 1728 -> SCK7 -> 1108\n",
      "Distance of route: 7 km (Max: 200)\n",
      "Stops visited: 8/8\n",
      "\n",
      "Route for vehicle 6:\n",
      " 1108 -> 1545 -> 1759 -> SCSL -> 1017 -> 5 -> 1902 -> SCUP -> SCDR -> 1108\n",
      "Distance of route: 7 km (Max: 200)\n",
      "Stops visited: 8/8\n",
      "\n",
      "Route for vehicle 7:\n",
      " 1108 -> 1661 -> 1105 -> 1608 -> 1826 -> SCCC -> 1672 -> 1818 -> SCKE -> 1108\n",
      "Distance of route: 10 km (Max: 200)\n",
      "Stops visited: 8/8\n",
      "\n",
      "Max route distance for Day 2: 21 km\n",
      "\n"
     ]
    }
   ],
   "source": [
    "visited_nodes, route_dict = solver.solve_day(data=data, day=1)"
   ]
  },
  {
   "cell_type": "code",
   "execution_count": 1,
   "id": "b19df64f",
   "metadata": {},
   "outputs": [
    {
     "name": "stdout",
     "output_type": "stream",
     "text": [
      "shop codes len:32\n",
      "create_data_model called with:\n",
      "max_distance: [400]\n",
      "max_visits: [12]\n",
      "Distance Matrix Shape: (651, 651)\n",
      "Length of nodes_to_visit: 32\n",
      "\n",
      "Day 2 Routes:\n",
      "Route for vehicle 0:\n",
      " 0 -> 1331 -> SINL -> SIWD -> SIP2 -> 1781 -> SFAB -> 1466 -> 1117 -> 1847 -> 1370 -> 1809 -> 1787 -> 0\n",
      "Distance of route: 239 km (Max: 400)\n",
      "Stops visited: 12/12\n",
      "\n",
      "Max route distance for Day 2: 239 km\n",
      "\n",
      "{0: {'route_nodes': ['0', '1331', 'SINL', 'SIWD', 'SIP2', '1781', 'SFAB', '1466', '1117', '1847', '1370', '1809', '1787', '0'], 'route_distance': 239, 'max_distance_limit': 400, 'within_limit': True, 'num_visits': 12, 'max_visits_limit': 12}}\n",
      "shop codes len:22\n",
      "create_data_model called with:\n",
      "max_distance: [400]\n",
      "max_visits: [12]\n",
      "Distance Matrix Shape: (651, 651)\n",
      "Length of nodes_to_visit: 22\n",
      "\n",
      "Day 2 Routes:\n",
      "Route for vehicle 0:\n",
      " 0 -> 1170 -> SKKM -> 1460 -> 1113 -> 122 -> 1159 -> SYMT -> 1659 -> 1481 -> 1124 -> 1350 -> 1770 -> 0\n",
      "Distance of route: 263 km (Max: 400)\n",
      "Stops visited: 12/12\n",
      "\n",
      "Max route distance for Day 2: 263 km\n",
      "\n",
      "{0: {'route_nodes': ['0', '1170', 'SKKM', '1460', '1113', '122', '1159', 'SYMT', '1659', '1481', '1124', '1350', '1770', '0'], 'route_distance': 263, 'max_distance_limit': 400, 'within_limit': True, 'num_visits': 12, 'max_visits_limit': 12}}\n",
      "create_data_model called with:\n",
      "max_distance: [400, 400, 400, 400, 400, 400]\n",
      "max_visits: [12, 12, 12, 12, 12, 12]\n",
      "Distance Matrix Shape: (651, 651)\n",
      "Length of nodes_to_visit: 433\n",
      "\n",
      "Day 2 Routes:\n",
      "Route for vehicle 0:\n",
      " 0 -> 14 -> 1301 -> 1364 -> 14003 -> 1145 -> 1433 -> 1759 -> SCSL -> 1746 -> 1776 -> 1896 -> SGTY -> 0\n",
      "Distance of route: 25 km (Max: 400)\n",
      "Stops visited: 12/12\n",
      "\n",
      "Route for vehicle 1:\n",
      " 0 -> SCKX -> 1678 -> SLMN -> SCBI -> SCTH -> SCPT -> 14010 -> 110 -> 1549 -> 1548 -> 1355 -> SGMQ -> 0\n",
      "Distance of route: 42 km (Max: 400)\n",
      "Stops visited: 12/12\n",
      "\n",
      "Route for vehicle 2:\n",
      " 0 -> SGEL -> SGK5 -> SGMP -> SGGP -> 24 -> 114 -> SGYK -> SGTI -> 123 -> SGMI -> SGDL -> SGGE -> 0\n",
      "Distance of route: 66 km (Max: 400)\n",
      "Stops visited: 12/12\n",
      "\n",
      "Route for vehicle 3:\n",
      " 0 -> SGKG -> 1728 -> 1497 -> 1614 -> SCWP -> SCGT -> 1745 -> 172 -> SCMU -> SGKY -> SGSM -> SGKB -> 0\n",
      "Distance of route: 31 km (Max: 400)\n",
      "Stops visited: 12/12\n",
      "\n",
      "Route for vehicle 4:\n",
      " 0 -> 150 -> 1084 -> SGKC -> SGSE -> 128 -> SGJA -> SGNO -> SGJW -> 14013 -> 171 -> SGMH -> SGRA -> 0\n",
      "Distance of route: 42 km (Max: 400)\n",
      "Stops visited: 12/12\n",
      "\n",
      "Route for vehicle 5:\n",
      " 0 -> SGEM -> SGWA -> 1555 -> 1292 -> 1108 -> SCKE -> SCK7 -> SCMY -> 1137 -> 14015 -> SGKR -> 3 -> 0\n",
      "Distance of route: 29 km (Max: 400)\n",
      "Stops visited: 12/12\n",
      "\n",
      "Max route distance for Day 2: 66 km\n",
      "\n",
      "Visited Nodes (Predefined + Solved): {'SIP2', '150', 'SGEL', 'SLMN', 'SGK5', 'SGTY', 'SCKX', '172', 'SCBI', '1145', 'SFAB', '1678', '1364', 'SGMH', 'SGEM', 'SGGP', 'SGRA', 'SCTH', '1614', '1896', 'SGTI', '1170', 'SGWA', '1776', '1466', 'SGKY', '1659', '171', '24', '1809', '1770', '1117', '1497', 'SCK7', '3', 'SGMQ', '14010', '122', 'SCSL', '1113', 'SGMI', 'SCGT', '1355', '128', 'SGSM', 'SGJW', '1108', 'SGNO', 'SCMU', '1433', 'SGSE', 'SGKC', 'SGKR', 'SKKM', 'SCMY', 'SYMT', '1781', 'SGDL', '1728', '1301', 'SCPT', '1370', '1847', 'SGKG', 'SGJA', '14003', '1292', 'SGYK', '1746', '14015', 'SINL', '110', '1124', '1460', 'SIWD', '1759', 'SCWP', 'SGKB', '1787', '1745', '0', '123', '1481', '1350', '1555', '1331', 'SGMP', '1159', '14013', '1549', 'SGGE', 'SCKE', '1084', '1137', '1548', '14', '114'}\n",
      "Routes by Vehicle ID:\n",
      "Vehicle 0: {'route_nodes': ['0', '1331', 'SINL', 'SIWD', 'SIP2', '1781', 'SFAB', '1466', '1117', '1847', '1370', '1809', '1787', '0'], 'route_distance': 239, 'max_distance_limit': 400, 'within_limit': True, 'num_visits': 12, 'max_visits_limit': 12}\n",
      "Vehicle 1: {'route_nodes': ['0', '1170', 'SKKM', '1460', '1113', '122', '1159', 'SYMT', '1659', '1481', '1124', '1350', '1770', '0'], 'route_distance': 263, 'max_distance_limit': 400, 'within_limit': True, 'num_visits': 12, 'max_visits_limit': 12}\n",
      "Vehicle 2: {'route_nodes': ['0', '14', '1301', '1364', '14003', '1145', '1433', '1759', 'SCSL', '1746', '1776', '1896', 'SGTY', '0'], 'route_distance': 25, 'max_distance_limit': 400, 'within_limit': True, 'num_visits': 12, 'max_visits_limit': 12}\n",
      "Vehicle 3: {'route_nodes': ['0', 'SCKX', '1678', 'SLMN', 'SCBI', 'SCTH', 'SCPT', '14010', '110', '1549', '1548', '1355', 'SGMQ', '0'], 'route_distance': 42, 'max_distance_limit': 400, 'within_limit': True, 'num_visits': 12, 'max_visits_limit': 12}\n",
      "Vehicle 4: {'route_nodes': ['0', 'SGEL', 'SGK5', 'SGMP', 'SGGP', '24', '114', 'SGYK', 'SGTI', '123', 'SGMI', 'SGDL', 'SGGE', '0'], 'route_distance': 66, 'max_distance_limit': 400, 'within_limit': True, 'num_visits': 12, 'max_visits_limit': 12}\n",
      "Vehicle 5: {'route_nodes': ['0', 'SGKG', '1728', '1497', '1614', 'SCWP', 'SCGT', '1745', '172', 'SCMU', 'SGKY', 'SGSM', 'SGKB', '0'], 'route_distance': 31, 'max_distance_limit': 400, 'within_limit': True, 'num_visits': 12, 'max_visits_limit': 12}\n",
      "Vehicle 6: {'route_nodes': ['0', '150', '1084', 'SGKC', 'SGSE', '128', 'SGJA', 'SGNO', 'SGJW', '14013', '171', 'SGMH', 'SGRA', '0'], 'route_distance': 42, 'max_distance_limit': 400, 'within_limit': True, 'num_visits': 12, 'max_visits_limit': 12}\n",
      "Vehicle 7: {'route_nodes': ['0', 'SGEM', 'SGWA', '1555', '1292', '1108', 'SCKE', 'SCK7', 'SCMY', '1137', '14015', 'SGKR', '3', '0'], 'route_distance': 29, 'max_distance_limit': 400, 'within_limit': True, 'num_visits': 12, 'max_visits_limit': 12}\n"
     ]
    }
   ],
   "source": [
    "from src.controller.controller import VRPController\n",
    "\n",
    "# === File paths ===\n",
    "demand_path = '../data/orders/03-03-2025-PO.csv'\n",
    "matrix_path = '../data/master/osrm_distance_matrix.csv'\n",
    "gps_path = '../data/master/master_gps.csv'\n",
    "today = '2025-03-03'\n",
    "DISTANCE_BASE_PENALTY = 1000\n",
    "total_days = 6\n",
    "\n",
    "# === Initialize Controller ===\n",
    "controller = VRPController()\n",
    "\n",
    "controller.load_inputs(\n",
    "    demand_path=demand_path,\n",
    "    matrix_path=matrix_path,\n",
    "    gps_path=gps_path,\n",
    "    base_penalty=DISTANCE_BASE_PENALTY,\n",
    "    total_days=total_days,\n",
    "    today=today\n",
    ")\n",
    "\n",
    "# === Predefined route assignment ===\n",
    "vehicle_routes = {\n",
    "    0: 1,  # vehicle_id 0 uses route_id 1 from predefined routes\n",
    "    1: 2\n",
    "}\n",
    "\n",
    "# === Configure Vehicles ===\n",
    "controller.configure_vehicles(\n",
    "    num_vehicles=8,\n",
    "    max_visits=[12] * 8,\n",
    "    max_distance=[400] * 8,\n",
    "    vehicle_routes=vehicle_routes\n",
    ")\n",
    "\n",
    "# === Solve VRP ===\n",
    "visited_nodes, routes = controller.solve_single_day()\n",
    "\n",
    "# === Print results ===\n",
    "print(\"Visited Nodes (Predefined + Solved):\", visited_nodes)\n",
    "print(\"Routes by Vehicle ID:\")\n",
    "for vid, route in routes.items():\n",
    "    print(f\"Vehicle {vid}: {route}\")"
   ]
  },
  {
   "cell_type": "code",
   "execution_count": 23,
   "id": "62fcce84",
   "metadata": {},
   "outputs": [],
   "source": [
    "from src.utils.visualization import visualize_routes_per_vehicle, load_route_cache, print_route_summary, save_route_details_to_csv"
   ]
  },
  {
   "cell_type": "code",
   "execution_count": 24,
   "id": "240455f0",
   "metadata": {},
   "outputs": [
    {
     "name": "stdout",
     "output_type": "stream",
     "text": [
      "Loaded 151 cached routes from ../data/csv/route_cache.csv\n"
     ]
    }
   ],
   "source": [
    "load_route_cache()"
   ]
  },
  {
   "cell_type": "code",
   "execution_count": null,
   "id": "8a572f12",
   "metadata": {},
   "outputs": [
    {
     "name": "stdout",
     "output_type": "stream",
     "text": [
      "No valid path found between 1130 and 1308, skipping.\n",
      "No valid path found between 1107 and SCTB, skipping.\n",
      "No valid path found between SCMY and 1137, skipping.\n",
      "No valid path found between SGKR and 3, skipping.\n",
      "No valid path found between 1105 and 1608, skipping.\n",
      "Saved 206 cached routes to ../data/csv/route_cache.csv\n"
     ]
    }
   ],
   "source": [
    "controller.load_inputs(\n",
    "    demand_path=demand_path,\n",
    "    matrix_path=matrix_path,\n",
    "    gps_path=gps_path,\n",
    "    base_penalty=DISTANCE_BASE_PENALTY,\n",
    "    total_days=total_days,\n",
    "    today=today\n",
    ")\n",
    "maps = visualize_routes_per_vehicle(\n",
    "    master_df=controller.master_gps_df,\n",
    "    route_dict=route_dict,\n",
    "    day=0,\n",
    "    use_distance=True  # or False if using time\n",
    ")"
   ]
  },
  {
   "cell_type": "code",
   "execution_count": 2,
   "id": "aedfc7f6",
   "metadata": {},
   "outputs": [
    {
     "name": "stdout",
     "output_type": "stream",
     "text": [
      "create_data_model called with:\n",
      "Depot: 1545\n",
      "Max Distance: [200, 200, 200, 200, 200, 200, 200, 200]\n",
      "Max Visits: [12, 12, 12, 12, 12, 12, 12, 12]\n",
      "Distance Matrix Shape: (651, 651)\n",
      "Nodes to Visit: 457\n",
      "\n",
      "Day 2 Routes:\n",
      "Route for vehicle 0:\n",
      " 1545 -> SCKL -> 112 -> SCPY -> 14001 -> SCGS -> SCNG -> SCPO -> SCMU -> 172 -> 1745 -> SCGT -> SCWP -> 1545\n",
      "Distance of route: 29 km (Max: 200)\n",
      "Stops visited: 12/12\n",
      "\n",
      "Route for vehicle 1:\n",
      " 1545 -> SCET -> SGRD -> SCDE -> 1774 -> 1106 -> 1484 -> 23 -> SCML -> 1650 -> 25 -> 1308 -> 1130 -> 1545\n",
      "Distance of route: 21 km (Max: 200)\n",
      "Stops visited: 12/12\n",
      "\n",
      "Route for vehicle 2:\n",
      " 1545 -> SCMY -> 1137 -> SGWA -> 14015 -> SGKR -> 3 -> SGKG -> SGKB -> 14 -> SGTY -> SGSM -> SGKY -> 1545\n",
      "Distance of route: 27 km (Max: 200)\n",
      "Stops visited: 12/12\n",
      "\n",
      "Route for vehicle 3:\n",
      " 1545 -> 1872 -> 1320 -> 1471 -> SCCR -> SCSJ -> SCRJ -> SCNW -> 14008 -> SCTB -> 1419 -> 14011 -> 1676 -> 1545\n",
      "Distance of route: 15 km (Max: 200)\n",
      "Stops visited: 12/12\n",
      "\n",
      "Route for vehicle 4:\n",
      " 1545 -> 1005 -> 1818 -> 1672 -> 5 -> SCCC -> 1291 -> 1594 -> SCMD -> SCDP -> 1033 -> 1411 -> SCTU -> 1545\n",
      "Distance of route: 15 km (Max: 200)\n",
      "Stops visited: 12/12\n",
      "\n",
      "Route for vehicle 5:\n",
      " 1545 -> 1364 -> 1859 -> 1446 -> 1761 -> 1109 -> 1305 -> SCHR -> 1888 -> 1107 -> 1323 -> 1433 -> 1145 -> 1545\n",
      "Distance of route: 11 km (Max: 200)\n",
      "Stops visited: 12/12\n",
      "\n",
      "Route for vehicle 6:\n",
      " 1545 -> SCKE -> 1108 -> SCK7 -> 1555 -> 1728 -> 1497 -> 1614 -> 1896 -> 1776 -> 1301 -> 1746 -> 1292 -> 1545\n",
      "Distance of route: 12 km (Max: 200)\n",
      "Stops visited: 12/12\n",
      "\n",
      "Route for vehicle 7:\n",
      " 1545 -> SCSL -> 1759 -> SCDR -> SCUP -> 1017 -> 1902 -> 1826 -> 1608 -> 1105 -> 1661 -> 1303 -> 14003 -> 1545\n",
      "Distance of route: 6 km (Max: 200)\n",
      "Stops visited: 12/12\n",
      "\n",
      "Max route distance for Day 2: 29 km\n",
      "\n",
      "Loaded 243 cached routes from ../data/csv/route_cache.csv\n",
      "No valid path found between SCDE and 1774, skipping.\n",
      "No valid path found between 1308 and 1130, skipping.\n",
      "No valid path found between SCMY and 1137, skipping.\n",
      "No valid path found between 14015 and SGKR, skipping.\n",
      "No valid path found between SGKR and 3, skipping.\n",
      "No valid path found between 1608 and 1105, skipping.\n",
      "Saved 304 cached routes to ../data/csv/route_cache.csv\n",
      "Saved 304 cached routes to ../data/csv/route_cache.csv\n",
      "Route Summary:\n",
      "    Vehicle    Stops      Distance        Within Limit   \n",
      "-------------------------------------------------------\n",
      "    0          12         29         km   Yes            \n",
      "    1          12         21         km   Yes            \n",
      "    2          12         27         km   Yes            \n",
      "    3          12         15         km   Yes            \n",
      "    4          12         15         km   Yes            \n",
      "    5          12         11         km   Yes            \n",
      "    6          12         12         km   Yes            \n",
      "    7          12         6          km   Yes            \n",
      "-------------------------------------------------------\n",
      "    Total      96         136        km  \n",
      "Route details saved to output/csv/day_1_summary.csv\n"
     ]
    }
   ],
   "source": [
    "from src.controller.controller import VRPController, RouteMapManager\n",
    "\n",
    "# === File paths ===\n",
    "demand_path = '../data/orders/03-03-2025-PO.csv'\n",
    "matrix_path = '../data/master/osrm_distance_matrix.csv'\n",
    "gps_path = '../data/master/master_gps.csv'\n",
    "today = '2025-03-03'\n",
    "DISTANCE_BASE_PENALTY = 1000\n",
    "total_days = 6\n",
    "\n",
    "# Setup\n",
    "controller = VRPController()\n",
    "controller.load_inputs(demand_path, matrix_path, gps_path, DISTANCE_BASE_PENALTY, total_days, today,depot_code='1545')\n",
    "controller.configure_vehicles(8, [12]*8, [200]*8)\n",
    "\n",
    "# Solve\n",
    "visited_nodes, route_dict = controller.solve_single_day()\n",
    "\n",
    "# Visualize & Save\n",
    "visualizer = RouteMapManager(controller.master_gps_df, controller.demand_df)\n",
    "visualizer.generate_and_save_maps(route_dict, day=0)\n",
    "visualizer.summarize_and_save(route_dict, day=0)"
   ]
  },
  {
   "cell_type": "code",
   "execution_count": null,
   "id": "fbbd3a8f",
   "metadata": {},
   "outputs": [],
   "source": []
  }
 ],
 "metadata": {
  "kernelspec": {
   "display_name": "route_venv",
   "language": "python",
   "name": "python3"
  },
  "language_info": {
   "codemirror_mode": {
    "name": "ipython",
    "version": 3
   },
   "file_extension": ".py",
   "mimetype": "text/x-python",
   "name": "python",
   "nbconvert_exporter": "python",
   "pygments_lexer": "ipython3",
   "version": "3.11.0"
  }
 },
 "nbformat": 4,
 "nbformat_minor": 5
}
