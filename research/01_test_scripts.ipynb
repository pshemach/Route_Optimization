{
 "cells": [
  {
   "cell_type": "code",
   "execution_count": 1,
   "id": "002c641a",
   "metadata": {},
   "outputs": [],
   "source": [
    "import pandas as pd\n",
    "from src.utils.data_utils import get_demand_df, update_demand_dic, load_matrix_df, get_demand_matrix_df, load_df\n",
    "from src.utils.helper_utils import get_penalty_list, get_values_not_in_second_list\n",
    "from src.utils.route_utils import sort_nodes_by_distance"
   ]
  },
  {
   "cell_type": "code",
   "execution_count": 2,
   "id": "214f8ab9",
   "metadata": {},
   "outputs": [
    {
     "data": {
      "text/plain": [
       "(457, 10)"
      ]
     },
     "execution_count": 2,
     "metadata": {},
     "output_type": "execute_result"
    }
   ],
   "source": [
    "demand_df = get_demand_df(\n",
    "    today_path='../data/orders/03-03-2025-PO.csv'\n",
    "    )\n",
    "demand_df.shape"
   ]
  },
  {
   "cell_type": "code",
   "execution_count": 3,
   "id": "a41f78cd",
   "metadata": {},
   "outputs": [],
   "source": [
    "demand_dict = update_demand_dic(demand_df)"
   ]
  },
  {
   "cell_type": "code",
   "execution_count": 4,
   "id": "ddce13c0",
   "metadata": {},
   "outputs": [],
   "source": [
    "distance_mat = load_matrix_df('../data/master/osrm_distance_matrix.csv')"
   ]
  },
  {
   "cell_type": "code",
   "execution_count": 5,
   "id": "0d27a01f",
   "metadata": {},
   "outputs": [],
   "source": [
    "demand_mat_df = get_demand_matrix_df(distance_mat,demand_df, 0)"
   ]
  },
  {
   "cell_type": "code",
   "execution_count": 6,
   "id": "87c01288",
   "metadata": {},
   "outputs": [],
   "source": [
    "today = '2025-03-03'\n",
    "DISTANCE_BASE_PENALTY = 1000\n",
    "penalty_lis = get_penalty_list(demand_dict, DISTANCE_BASE_PENALTY, 6, today)"
   ]
  },
  {
   "cell_type": "code",
   "execution_count": 7,
   "id": "38c062d8",
   "metadata": {},
   "outputs": [],
   "source": [
    "demand_sort_nodes = sort_nodes_by_distance(demand_mat_df.values)"
   ]
  },
  {
   "cell_type": "code",
   "execution_count": 8,
   "id": "58f8dbc8",
   "metadata": {},
   "outputs": [],
   "source": [
    "nodes_to_visit = sorted(demand_sort_nodes[:300])"
   ]
  },
  {
   "cell_type": "code",
   "execution_count": 9,
   "id": "14fafbe1",
   "metadata": {},
   "outputs": [],
   "source": [
    "from src.data_model.vrp_data_model import VRPDataModel"
   ]
  },
  {
   "cell_type": "code",
   "execution_count": 10,
   "id": "3e66e6f3",
   "metadata": {},
   "outputs": [
    {
     "name": "stdout",
     "output_type": "stream",
     "text": [
      "create_data_model called with:\n",
      "max_distance: [200, 200, 200, 200, 200, 200, 200, 200]\n",
      "max_visits: [8, 8, 8, 8, 8, 8, 8, 8]\n"
     ]
    }
   ],
   "source": [
    "dataClass = VRPDataModel(\n",
    "    full_matrix=demand_mat_df,\n",
    "    nodes_to_visit=nodes_to_visit,\n",
    "    demand_dict=demand_dict,\n",
    "    penalty_list=penalty_lis,\n",
    "    max_visits=[8]*8\n",
    ")"
   ]
  },
  {
   "cell_type": "code",
   "execution_count": 11,
   "id": "8b24dbd0",
   "metadata": {},
   "outputs": [],
   "source": [
    "data=dataClass.get_data()"
   ]
  },
  {
   "cell_type": "code",
   "execution_count": 12,
   "id": "1de52508",
   "metadata": {},
   "outputs": [
    {
     "data": {
      "text/plain": [
       "301"
      ]
     },
     "execution_count": 12,
     "metadata": {},
     "output_type": "execute_result"
    }
   ],
   "source": [
    "len(data['distance_matrix'])"
   ]
  },
  {
   "cell_type": "code",
   "execution_count": 13,
   "id": "56618edd",
   "metadata": {},
   "outputs": [],
   "source": [
    "from src.solver.vrp_solver import VRPSolver"
   ]
  },
  {
   "cell_type": "code",
   "execution_count": 14,
   "id": "c80616e8",
   "metadata": {},
   "outputs": [],
   "source": [
    "solver = VRPSolver()"
   ]
  },
  {
   "cell_type": "code",
   "execution_count": 15,
   "id": "aadabe86",
   "metadata": {},
   "outputs": [
    {
     "name": "stdout",
     "output_type": "stream",
     "text": [
      "\n",
      "Day 2 Routes:\n",
      "Route for vehicle 0:\n",
      " 0 -> 1896 -> 1776 -> 1301 -> 1746 -> SCDR -> 1759 -> SCSL -> 1545 -> 0\n",
      "Distance of route: 28 km (Max: 200)\n",
      "Stops visited: 8/8\n",
      "\n",
      "Route for vehicle 1:\n",
      " 0 -> 1728 -> 1497 -> 1364 -> 1145 -> 14003 -> 1433 -> 1292 -> 1555 -> 0\n",
      "Distance of route: 30 km (Max: 200)\n",
      "Stops visited: 8/8\n",
      "\n",
      "Route for vehicle 2:\n",
      " 0 -> 150 -> SGRA -> 171 -> 14013 -> SGMH -> 3 -> 14015 -> SGKR -> 0\n",
      "Distance of route: 21 km (Max: 200)\n",
      "Stops visited: 8/8\n",
      "\n",
      "Route for vehicle 3:\n",
      " 0 -> 128 -> SGSE -> SGKC -> 1084 -> SGJA -> SGNO -> SGJW -> SGGE -> 0\n",
      "Distance of route: 49 km (Max: 200)\n",
      "Stops visited: 8/8\n",
      "\n",
      "Route for vehicle 4:\n",
      " 0 -> SCKX -> 1678 -> 14010 -> 110 -> 1549 -> 1548 -> 1355 -> SGMQ -> 0\n",
      "Distance of route: 36 km (Max: 200)\n",
      "Stops visited: 8/8\n",
      "\n",
      "Route for vehicle 5:\n",
      " 0 -> SGK5 -> SGYK -> SGTI -> 114 -> 24 -> SGGP -> SGMP -> SGEL -> 0\n",
      "Distance of route: 40 km (Max: 200)\n",
      "Stops visited: 8/8\n",
      "\n",
      "Route for vehicle 6:\n",
      " 0 -> SGEM -> SGWA -> 1137 -> SCMY -> SCK7 -> 1108 -> 1818 -> SCKE -> 0\n",
      "Distance of route: 30 km (Max: 200)\n",
      "Stops visited: 8/8\n",
      "\n",
      "Route for vehicle 7:\n",
      " 0 -> SGKB -> 14 -> SGTY -> 172 -> SCMU -> SGKY -> SGSM -> SGKG -> 0\n",
      "Distance of route: 23 km (Max: 200)\n",
      "Stops visited: 8/8\n",
      "\n",
      "Max route distance for Day 2: 49 km\n",
      "\n"
     ]
    }
   ],
   "source": [
    "visited_nodes, route_dict = solver.solve_day(data=data, day=1)"
   ]
  },
  {
   "cell_type": "code",
   "execution_count": null,
   "id": "e60306d8",
   "metadata": {},
   "outputs": [],
   "source": []
  }
 ],
 "metadata": {
  "kernelspec": {
   "display_name": "route_venv",
   "language": "python",
   "name": "python3"
  },
  "language_info": {
   "codemirror_mode": {
    "name": "ipython",
    "version": 3
   },
   "file_extension": ".py",
   "mimetype": "text/x-python",
   "name": "python",
   "nbconvert_exporter": "python",
   "pygments_lexer": "ipython3",
   "version": "3.11.0"
  }
 },
 "nbformat": 4,
 "nbformat_minor": 5
}
